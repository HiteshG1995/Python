{
 "cells": [
  {
   "cell_type": "code",
   "execution_count": 1,
   "id": "paperback-latino",
   "metadata": {},
   "outputs": [],
   "source": [
    "import numpy as np \n",
    "import pandas as pd \n",
    "\n",
    "from sklearn import metrics\n",
    "from sklearn.model_selection import train_test_split\n",
    "\n",
    "from sklearn import ensemble\n",
    "from sklearn import linear_model\n",
    "\n",
    "\n",
    "import os\n",
    "for dirname, _, filenames in os.walk('crypto-markets.csv'):\n",
    "    for filename in filenames:\n",
    "        print(os.path.join(dirname, filename))"
   ]
  },
  {
   "cell_type": "code",
   "execution_count": 3,
   "id": "metropolitan-coach",
   "metadata": {},
   "outputs": [],
   "source": [
    "def Datapreperation():\n",
    "    df = pd.read_csv(\"crypto-markets.csv\")\n",
    "    bitcoin_df = pd.DataFrame(df.loc[df.name ==\"Bitcoin\", [\"date\", \"open\", \"close\", \"high\", \"low\"]]).set_index(\"date\")\n",
    "    bitcoin_df[\"close_nextday\"] = bitcoin_df[\"close\"].shift(periods = -1, fill_value = 0)\n",
    "    temp = bitcoin_df[[\"open\", \"close\", \"high\", \"low\"]]\n",
    "    temp = temp[1800:]\n",
    "    return bitcoin_df, temp"
   ]
  },
  {
   "cell_type": "code",
   "execution_count": 4,
   "id": "considered-packing",
   "metadata": {},
   "outputs": [],
   "source": [
    "def TestTrainpreperation(bitcoin_df):\n",
    "    X = bitcoin_df[[\"open\", \"close\", \"high\", \"low\"]]\n",
    "    y = bitcoin_df[[\"close_nextday\"]]\n",
    "    X_train, X_test, y_train, y_test = train_test_split(X, y, test_size=0.33, random_state=42)\n",
    "    return X_train, X_test, y_train, y_test"
   ]
  },
  {
   "cell_type": "code",
   "execution_count": 5,
   "id": "familiar-patch",
   "metadata": {},
   "outputs": [],
   "source": [
    "def RandomForestRegressor(bitcoin_df, X_train, X_test, y_train, y_test, temp, acc):\n",
    "    bitcoin_rfr = ensemble.RandomForestRegressor()\n",
    "    bitcoin_rfr.fit(X_train, y_train)\n",
    "    \n",
    "    acc.at[\"r2_score\", \"RandomForestRegressor\"] = metrics.r2_score(y_test, bitcoin_rfr.predict(X_test))\n",
    "    acc.at[\"mean_squared_error\", \"RandomForestRegressor\"] = metrics.mean_squared_error(y_test, bitcoin_rfr.predict(X_test))\n",
    "    \n",
    "    \n",
    "    results =pd.DataFrame(bitcoin_rfr.predict(temp))\n",
    "    results = results.rename(columns={0: \"Prediction_rfr\"})\n",
    "    results = results.set_index(temp.index)\n",
    "\n",
    "    bitcoin_df = bitcoin_df.join(results, how = \"left\")\n",
    "    return bitcoin_df, acc"
   ]
  },
  {
   "cell_type": "code",
   "execution_count": 6,
   "id": "instant-soviet",
   "metadata": {},
   "outputs": [],
   "source": [
    "def AdaBoostRegressor(bitcoin_df, X_train, X_test, y_train, y_test, temp, acc):\n",
    "    bitcoin_abr = ensemble.AdaBoostRegressor()\n",
    "    bitcoin_abr.fit(X_train, y_train)\n",
    "    \n",
    "    acc.at[\"r2_score\", \"AdaBoostRegressor\"] = metrics.r2_score(y_test, bitcoin_abr.predict(X_test))\n",
    "    acc.at[\"mean_squared_error\", \"AdaBoostRegressor\"] = metrics.mean_squared_error(y_test, bitcoin_abr.predict(X_test))\n",
    "    \n",
    "    results =pd.DataFrame(bitcoin_abr.predict(temp))\n",
    "    results = results.rename(columns={0: \"Prediction_abr\"})\n",
    "    results = results.set_index(temp.index)\n",
    "\n",
    "    bitcoin_df = bitcoin_df.join(results, how = \"left\")\n",
    "    return bitcoin_df, acc"
   ]
  },
  {
   "cell_type": "code",
   "execution_count": 7,
   "id": "successful-bouquet",
   "metadata": {},
   "outputs": [],
   "source": [
    "def ExtraTreesRegressor(bitcoin_df, X_train, X_test, y_train, y_test, temp, acc):\n",
    "    bitcoin_etr = ensemble.ExtraTreesRegressor()\n",
    "    bitcoin_etr.fit(X_train, y_train)\n",
    "    acc.at[\"r2_score\", \"ExtraTreesRegressor\"] = metrics.r2_score(y_test, bitcoin_etr.predict(X_test))\n",
    "    acc.at[\"mean_squared_error\", \"ExtraTreesRegressor\"] = metrics.mean_squared_error(y_test, bitcoin_etr.predict(X_test))\n",
    "    \n",
    "    results =pd.DataFrame(bitcoin_etr.predict(temp))\n",
    "    results = results.rename(columns={0: \"Prediction_etr\"})\n",
    "    results = results.set_index(temp.index)\n",
    "\n",
    "    bitcoin_df = bitcoin_df.join(results, how = \"left\")\n",
    "    return bitcoin_df, acc"
   ]
  },
  {
   "cell_type": "code",
   "execution_count": 8,
   "id": "prescription-daisy",
   "metadata": {},
   "outputs": [],
   "source": [
    "def HistGradientBoostingRegressor(bitcoin_df, X_train, X_test, y_train, y_test, temp, acc):\n",
    "    bitcoin_hgbr = ensemble.HistGradientBoostingRegressor()\n",
    "    bitcoin_hgbr.fit(X_train, y_train)\n",
    "    acc.at[\"r2_score\", \"HistGradientBoostingRegressor\"] = metrics.r2_score(y_test, bitcoin_hgbr.predict(X_test))\n",
    "    acc.at[\"mean_squared_error\", \"HistGradientBoostingRegressor\"] = metrics.mean_squared_error(y_test, bitcoin_hgbr.predict(X_test))\n",
    "    \n",
    "    results =pd.DataFrame(bitcoin_hgbr.predict(temp))\n",
    "    results = results.rename(columns={0: \"Prediction_hgbr\"})\n",
    "    results = results.set_index(temp.index)\n",
    "\n",
    "    bitcoin_df = bitcoin_df.join(results, how = \"left\")\n",
    "    return bitcoin_df, acc"
   ]
  },
  {
   "cell_type": "code",
   "execution_count": 9,
   "id": "seven-relaxation",
   "metadata": {},
   "outputs": [],
   "source": [
    "def GradientBoostingRegressor(bitcoin_df, X_train, X_test, y_train, y_test, temp, acc):\n",
    "    bitcoin_gtb = ensemble.GradientBoostingRegressor()\n",
    "    bitcoin_gtb.fit(X_test, y_test)\n",
    "    acc.at[\"r2_score\", \"GradientBoostingRegressor\"] = metrics.r2_score(y_test, bitcoin_gtb.predict(X_test))\n",
    "    acc.at[\"mean_squared_error\", \"GradientBoostingRegressor\"] = metrics.mean_squared_error(y_test, bitcoin_gtb.predict(X_test))\n",
    "    \n",
    "    results =pd.DataFrame(bitcoin_gtb.predict(temp))\n",
    "    results = results.rename(columns={0: \"Prediction_gtb\"})\n",
    "    results = results.set_index(temp.index)\n",
    "\n",
    "    bitcoin_df = bitcoin_df.join(results, how = \"left\")\n",
    "\n",
    "    return bitcoin_df, acc"
   ]
  },
  {
   "cell_type": "code",
   "execution_count": 10,
   "id": "indonesian-naples",
   "metadata": {},
   "outputs": [],
   "source": [
    "def MultiTaskLasso(bitcoin_df, X_train, X_test, y_train, y_test, temp, acc):\n",
    "    bitcoin_ml = linear_model.MultiTaskLasso()\n",
    "    bitcoin_ml.fit(X_train, y_train)\n",
    "    acc.at[\"r2_score\", \"MultiTaskLasso\"] = metrics.r2_score(y_test, bitcoin_ml.predict(X_test))\n",
    "    acc.at[\"mean_squared_error\", \"MultiTaskLasso\"] = metrics.mean_squared_error(y_test, bitcoin_ml.predict(X_test))\n",
    "    \n",
    "    results =pd.DataFrame(bitcoin_ml.predict(temp))\n",
    "    results = results.rename(columns={0: \"Prediction_ml\"})\n",
    "    results = results.set_index(temp.index)\n",
    "\n",
    "    bitcoin_df = bitcoin_df.join(results, how = \"left\")\n",
    "\n",
    "    return bitcoin_df, acc"
   ]
  },
  {
   "cell_type": "code",
   "execution_count": 11,
   "id": "representative-showcase",
   "metadata": {},
   "outputs": [],
   "source": [
    "def MultiTaskElasticNet(bitcoin_df, X_train, X_test, y_train, y_test, temp, acc):\n",
    "    bitcoin_mten = linear_model.MultiTaskElasticNet()\n",
    "    bitcoin_mten.fit(X_train, y_train)\n",
    "    acc.at[\"r2_score\", \"MultiTaskElasticNet\"] = metrics.r2_score(y_test, bitcoin_mten.predict(X_test))\n",
    "    acc.at[\"mean_squared_error\", \"MultiTaskElasticNet\"] = metrics.mean_squared_error(y_test, bitcoin_mten.predict(X_test))\n",
    "    \n",
    "    results =pd.DataFrame(bitcoin_mten.predict(temp))\n",
    "    results = results.rename(columns={0: \"Prediction_mten\"})\n",
    "    results = results.set_index(temp.index)\n",
    "\n",
    "    bitcoin_df = bitcoin_df.join(results, how = \"left\")\n",
    "\n",
    "    return bitcoin_df, acc"
   ]
  },
  {
   "cell_type": "code",
   "execution_count": 12,
   "id": "baking-change",
   "metadata": {},
   "outputs": [
    {
     "name": "stderr",
     "output_type": "stream",
     "text": [
      "c:\\python37\\lib\\site-packages\\ipykernel_launcher.py:3: DataConversionWarning: A column-vector y was passed when a 1d array was expected. Please change the shape of y to (n_samples,), for example using ravel().\n",
      "  This is separate from the ipykernel package so we can avoid doing imports until\n",
      "c:\\python37\\lib\\site-packages\\sklearn\\utils\\validation.py:63: DataConversionWarning: A column-vector y was passed when a 1d array was expected. Please change the shape of y to (n_samples, ), for example using ravel().\n",
      "  return f(*args, **kwargs)\n",
      "c:\\python37\\lib\\site-packages\\ipykernel_launcher.py:3: DataConversionWarning: A column-vector y was passed when a 1d array was expected. Please change the shape of y to (n_samples,), for example using ravel().\n",
      "  This is separate from the ipykernel package so we can avoid doing imports until\n",
      "c:\\python37\\lib\\site-packages\\sklearn\\utils\\validation.py:63: DataConversionWarning: A column-vector y was passed when a 1d array was expected. Please change the shape of y to (n_samples, ), for example using ravel().\n",
      "  return f(*args, **kwargs)\n",
      "c:\\python37\\lib\\site-packages\\sklearn\\linear_model\\_coordinate_descent.py:1952: ConvergenceWarning: Objective did not converge. You might want to increase the number of iterations. Duality gap: 55482726.417053826, tolerance: 1617448.107584071\n",
      "  check_random_state(self.random_state), random)\n",
      "c:\\python37\\lib\\site-packages\\sklearn\\linear_model\\_coordinate_descent.py:1952: ConvergenceWarning: Objective did not converge. You might want to increase the number of iterations. Duality gap: 55496904.72259332, tolerance: 1617448.107584071\n",
      "  check_random_state(self.random_state), random)\n"
     ]
    },
    {
     "name": "stdout",
     "output_type": "stream",
     "text": [
      "               open    close     high      low  close_nextday  Prediction_rfr  \\\n",
      "date                                                                            \n",
      "02-04-2018  6844.86  7083.80  7135.47  6816.58        7456.11       7332.3506   \n",
      "03-04-2018  7102.26  7456.11  7530.94  7072.49        6853.84       7039.5693   \n",
      "04-04-2018  7456.41  6853.84  7469.88  6803.88        6811.47       6876.8979   \n",
      "05-04-2018  6848.65  6811.47  6933.82  6644.80        6636.32       6898.7658   \n",
      "06-04-2018  6815.96  6636.32  6857.49  6575.00        6911.09       6602.9221   \n",
      "...             ...      ...      ...      ...            ...             ...   \n",
      "25-11-2018  3880.78  4009.97  4120.87  3585.06        3779.13       3945.7362   \n",
      "26-11-2018  4015.07  3779.13  4107.14  3643.92        3820.72       3852.2478   \n",
      "27-11-2018  3765.95  3820.72  3862.96  3661.01        4257.42       4127.5258   \n",
      "28-11-2018  3822.47  4257.42  4385.90  3822.47        4278.85       3831.1036   \n",
      "29-11-2018  4269.00  4278.85  4413.02  4145.77           0.00       1415.9949   \n",
      "\n",
      "            Prediction_abr  Prediction_etr  Prediction_gtb  Prediction_ml  \\\n",
      "date                                                                        \n",
      "02-04-2018     6910.701827       7456.1100     7242.648218    7078.302507   \n",
      "03-04-2018     6910.701827       6853.8400     7466.717625    7449.063171   \n",
      "04-04-2018     6910.701827       6910.3565     6799.328575    6719.127107   \n",
      "05-04-2018     6910.701827       6844.1428     6676.849386    6810.416869   \n",
      "06-04-2018     6665.315833       6616.5228     6794.120302    6587.141994   \n",
      "...                    ...             ...             ...            ...   \n",
      "25-11-2018     2314.765188       3957.7849     3873.490741    4071.463725   \n",
      "26-11-2018     2314.765188       3820.7200     4020.179729    3727.452599   \n",
      "27-11-2018     2314.765188       4257.4200     3940.700156    3840.507332   \n",
      "28-11-2018     2314.765188       3895.5518     4251.494429    4229.524078   \n",
      "29-11-2018     2314.765188          0.0000     4250.710710    4254.153717   \n",
      "\n",
      "            Prediction_mten  \n",
      "date                         \n",
      "02-04-2018      7078.298743  \n",
      "03-04-2018      7449.056354  \n",
      "04-04-2018      6719.133581  \n",
      "05-04-2018      6810.418745  \n",
      "06-04-2018      6587.145170  \n",
      "...                     ...  \n",
      "25-11-2018      4071.461240  \n",
      "26-11-2018      3727.454230  \n",
      "27-11-2018      3840.507158  \n",
      "28-11-2018      4229.512785  \n",
      "29-11-2018      4254.152864  \n",
      "\n",
      "[242 rows x 11 columns]\n",
      "                   RandomForestRegressor AdaBoostRegressor  \\\n",
      "r2_score                        0.994318          0.982028   \n",
      "mean_squared_error          67068.593817     212136.264297   \n",
      "\n",
      "                   ExtraTreesRegressor GradientBoostingRegressor  \\\n",
      "r2_score                      0.995145                  0.999758   \n",
      "mean_squared_error        57305.027057               2856.453118   \n",
      "\n",
      "                   MultiTaskLasso MultiTaskElasticNet  \n",
      "r2_score                 0.997255            0.997255  \n",
      "mean_squared_error   32397.419587        32397.095792  \n",
      "AxesSubplot(0.125,0.125;0.775x0.755)\n"
     ]
    },
    {
     "data": {
      "image/png": "[encoded data removed]",
      "text/plain": [
       "<Figure size 432x288 with 1 Axes>"
      ]
     },
     "metadata": {
      "needs_background": "light"
     },
     "output_type": "display_data"
    }
   ],
   "source": [
    "score = pd.DataFrame(index = [\"r2_score\", \"mean_squared_error\"], columns= [\"RandomForestRegressor\", \"AdaBoostRegressor\", \"ExtraTreesRegressor\", \"GradientBoostingRegressor\", \"MultiTaskLasso\", \"MultiTaskElasticNet\" ])\n",
    "\n",
    "bitcoin_df, temp = Datapreperation()\n",
    "\n",
    "X_train, X_test, y_train, y_test = TestTrainpreperation(bitcoin_df)\n",
    "\n",
    "bitcoin_df, score = RandomForestRegressor(bitcoin_df, X_train, X_test, y_train, y_test, temp, score)\n",
    "\n",
    "bitcoin_df, score  = AdaBoostRegressor(bitcoin_df, X_train, X_test, y_train, y_test, temp, score)\n",
    "\n",
    "bitcoin_df, score  = ExtraTreesRegressor(bitcoin_df, X_train, X_test, y_train, y_test, temp, score)\n",
    "\n",
    "#bitcoin_df = HistGradientBoostingRegressor(bitcoin_df, X_train, X_test, y_train, y_test, temp, score)\n",
    "\n",
    "bitcoin_df,score = GradientBoostingRegressor(bitcoin_df, X_train, X_test, y_train, y_test, temp, score)\n",
    "\n",
    "bitcoin_df, score = MultiTaskLasso(bitcoin_df, X_train, X_test, y_train, y_test, temp, score)\n",
    "\n",
    "bitcoin_df, score = MultiTaskElasticNet(bitcoin_df, X_train, X_test, y_train, y_test, temp, score)\n",
    "\n",
    "\n",
    "print(bitcoin_df[1800:])\n",
    "print(score)\n",
    "print(bitcoin_df[[\"close\", \"Prediction_rfr\",\"Prediction_abr\", \"Prediction_etr\", \"Prediction_gtb\", \"Prediction_ml\", \"Prediction_mten\"]].plot(title = \"Prediction comparision \"))"
   ]
  },
  {
   "cell_type": "code",
   "execution_count": null,
   "id": "american-harassment",
   "metadata": {},
   "outputs": [],
   "source": []
  }
 ],
 "metadata": {
  "kernelspec": {
   "display_name": "Python 3",
   "language": "python",
   "name": "python3"
  },
  "language_info": {
   "codemirror_mode": {
    "name": "ipython",
    "version": 3
   },
   "file_extension": ".py",
   "mimetype": "text/x-python",
   "name": "python",
   "nbconvert_exporter": "python",
   "pygments_lexer": "ipython3",
   "version": "3.7.8"
  }
 },
 "nbformat": 4,
 "nbformat_minor": 5
}
